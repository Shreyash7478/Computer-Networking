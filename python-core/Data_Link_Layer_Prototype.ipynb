{
 "cells": [
  {
   "cell_type": "code",
   "execution_count": 9,
   "metadata": {},
   "outputs": [],
   "source": [
    "import json\n",
    "import threading        \n",
    "\n",
    "\n",
    "\n",
    "\n",
    "#[seg_number,data,crc] ->  datalinklayer\n",
    "\n"
   ]
  },
  {
   "cell_type": "code",
   "execution_count": 111,
   "metadata": {},
   "outputs": [],
   "source": [
    "class DataLinkLayer:\n",
    "    \n",
    "    def __init__(self, window_size):\n",
    "        self.sock = socket.socket(socket.AF_INET, socket.SOCK_DGRAM)\n",
    "        self.sock.bind((\"localhost\", 2642))\n",
    "        self.timeout = 2 #secs\n",
    "        self.busy = False\n",
    "        self.window_size = window_size\n",
    "        self.semaphore = threading.lock()\n",
    "        self.window_status = [False]*window_size\n",
    "        self.timer_out = [0]*window_size\n",
    "        self.no_of_busy_windows = 0\n",
    "        self.window_buffer = [0]*window_size\n",
    "        self.next_window_number = 0\n",
    "        \n",
    "    def run(self):\n",
    "        while True:\n",
    "            if no_of_busy_windows > 0:\n",
    "                for i,j in enumerate(window_status):\n",
    "                    if j and timer_out < time.time():\n",
    "                        self.__send__(frame,IPAddr,port)\n",
    "                        \n",
    "                    \n",
    "    def __getwindownumber__(self):\n",
    "        self.semaphore.acquire()\n",
    "        self.no_of_busy_windows+=1\n",
    "        if self.no_of_busy_windows == self.window_size:\n",
    "            self.busy = true\n",
    "        \n",
    "        for nw,i in enumerate(self.window_status):\n",
    "            if i == False:\n",
    "                self.next_window_number = nw\n",
    "                self.window_status[nw] = True\n",
    "                self.timer_out[nw] = time.time() + self.timeout\n",
    "                break\n",
    "        \n",
    "        semaphore.release()\n",
    "        return self.next_window_number\n",
    "        \n",
    "    \n",
    "    def sendTo(self,file_name,IPAddr,port):\n",
    "        file = open(file_name,'r')\n",
    "        for line_number,line in enumerate(file):\n",
    "            while self.busy:\n",
    "                print(\"All windows busy ! Retrying in 5 secs...\")\n",
    "                time.sleep(5)\n",
    "                print(\"Retrying....\")\n",
    "            print(f\"{self.window_size-self.no_of_busy_windows} windows free !\")\n",
    "            \n",
    "            \n",
    "            \n",
    "            #create frame\n",
    "            #[frame_type,window_number,line_number,data]  \n",
    "            #[ack,window_number,checksum]     -->>> ACK FRAME\n",
    "            #[nack,window_number,checksum]     --->>NACK FRAME\n",
    "            #[data,window_number,line_number,data,checksum] -->> data frame\n",
    "            #store in window buffer\n",
    "            \n",
    "            \n",
    "            window_number = self.__getwindownumber__()\n",
    "            frame = [window_number,line_number,line]\n",
    "            window_buffer[window_number] = frame\n",
    "            \n",
    "            self.__send__(frame,IPAddr,port)\n",
    "            \n",
    "    \n",
    "    def __send__(self,frame,IPAddr,port):\n",
    "        byte_frame = json.dumps(frame)\n",
    "        checksum_payload = self.checksumCalculator(byte_frame)\n",
    "        frame.append(checksum_payload[0])\n",
    "        byte_frame = json.dumps(frame).encode()\n",
    "        self.tx(byte_frame,IPAddr,port)\n",
    "        self.sock.sendto(message, (IPAddr, Port))\n",
    "        \n",
    "    \n",
    "    \n",
    "    def rx(self):\n",
    "        while True:\n",
    "            byte_data, addr = self.sock.recv(1024)\n",
    "            data = json.loads(byte_data).decode()\n",
    "            checksum_payload = data[-1]\n",
    "            if checksumCheck(checksum_payload,json.dumps(data[-1])):\n",
    "                self.recieved(data[-1])\n",
    "            else:\n",
    "                print(\"Bad Frame Recved !\")\n",
    "    \n",
    "    \n",
    "    def recv(self,data):\n",
    "        if data[0] == \"data\":\n",
    "            ack = [\"ack\",data[1]]\n",
    "            self.__send__(ack)\n",
    "            file = open(\"recv.txt\",\"a\")\n",
    "            file.write(data[2:])\n",
    "            file.close()\n",
    "         \n",
    "        if data[0] == \"ack\":\n",
    "            self.semaphore.acquire()\n",
    "            self.no_of_busy_windows -= 1\n",
    "            self.window_status[data[1]] = False\n",
    "        \n",
    "        \n",
    "        \n",
    "    def onesComplimentAddition(self,a,b):\n",
    "        c = ['0','0','0','0','0','0','0','0','0']\n",
    "        a=a[::-1]\n",
    "        a+=(8-len(a))*'0'\n",
    "        b=b[::-1]\n",
    "        b+=(8-len(b))*'0'\n",
    "        #print(a,b)\n",
    "        for i in range(8):\n",
    "            #print(c)\n",
    "            lache = c[i]\n",
    "            c[i] = str((int(a[i])^int(b[i]))^int(lache))\n",
    "            c[i+1] = str(((int(a[i])^int(b[i]))&int(lache))|(int(a[i])&int(b[i])))\n",
    "            #print(a[i],b[i],c[i],c[i+1])\n",
    "\n",
    "        c = ''.join(c[::-1])\n",
    "        #print(\"return\")\n",
    "        if(c[0]=='0'):\n",
    "            return c[1:]\n",
    "\n",
    "        return onesComplimentAddition(c[1:],'00000001')\n",
    "\n",
    "\n",
    "    def checksumCalculator(self,playload):\n",
    "        checksum = '00000000'\n",
    "        for i in playload:\n",
    "            checksum = onesComplimentAddition(checksum,bin(ord(i))[3:])\n",
    "        \n",
    "        return (bin(255 - int(\"0b\"+checksum,2))[2:],checksum)\n",
    "    \n",
    "    def checksumCheck(self,recv,calculated):\n",
    "        return int((\"0b\"+recv),2) == 255-int((\"0b\"+calculated),2)\n"
   ]
  },
  {
   "cell_type": "code",
   "execution_count": 65,
   "metadata": {},
   "outputs": [
    {
     "data": {
      "text/plain": [
       "('10000010', '01111101')"
      ]
     },
     "execution_count": 65,
     "metadata": {},
     "output_type": "execute_result"
    }
   ],
   "source": [
    "checksumCalculator(\"Hello World\")"
   ]
  },
  {
   "cell_type": "code",
   "execution_count": 77,
   "metadata": {},
   "outputs": [],
   "source": [
    "frame = [\"data\",4,10,\"Hello World\"]"
   ]
  },
  {
   "cell_type": "code",
   "execution_count": 78,
   "metadata": {},
   "outputs": [],
   "source": [
    "byte_frame = json.dumps(frame)\n",
    "checksum_payload = checksumCalculator(byte_frame)\n",
    "frame.append(checksum_payload[0])\n",
    "byte_frame = json.dumps(frame).encode()"
   ]
  },
  {
   "cell_type": "code",
   "execution_count": 79,
   "metadata": {},
   "outputs": [
    {
     "data": {
      "text/plain": [
       "b'[\"data\", 4, 10, \"Hello World\", \"1001110\"]'"
      ]
     },
     "execution_count": 79,
     "metadata": {},
     "output_type": "execute_result"
    }
   ],
   "source": [
    "byte_frame"
   ]
  },
  {
   "cell_type": "code",
   "execution_count": 82,
   "metadata": {},
   "outputs": [],
   "source": [
    "def checksumCheck(recv,calculated):\n",
    "    return int((\"0b\"+recv),2) == 255-int((\"0b\"+calculated),2)\n",
    "    "
   ]
  },
  {
   "cell_type": "code",
   "execution_count": 85,
   "metadata": {},
   "outputs": [
    {
     "data": {
      "text/plain": [
       "True"
      ]
     },
     "execution_count": 85,
     "metadata": {},
     "output_type": "execute_result"
    }
   ],
   "source": [
    "checksumCheck(checksumCalculator(\"Helo World\")[0],checksumCalculator(\"Helo World\")[1])"
   ]
  },
  {
   "cell_type": "code",
   "execution_count": 106,
   "metadata": {},
   "outputs": [],
   "source": [
    "l = time.time()"
   ]
  },
  {
   "cell_type": "code",
   "execution_count": 107,
   "metadata": {},
   "outputs": [
    {
     "data": {
      "text/plain": [
       "2.11936354637146"
      ]
     },
     "execution_count": 107,
     "metadata": {},
     "output_type": "execute_result"
    }
   ],
   "source": [
    "time.time() - l"
   ]
  },
  {
   "cell_type": "code",
   "execution_count": null,
   "metadata": {},
   "outputs": [],
   "source": []
  },
  {
   "cell_type": "code",
   "execution_count": null,
   "metadata": {},
   "outputs": [],
   "source": []
  },
  {
   "cell_type": "code",
   "execution_count": 108,
   "metadata": {},
   "outputs": [],
   "source": [
    "window_status = [0,1,0,1,0,1,0,1,1,1]\n",
    "timer_out = [time.tim]"
   ]
  },
  {
   "cell_type": "code",
   "execution_count": 109,
   "metadata": {},
   "outputs": [
    {
     "ename": "SyntaxError",
     "evalue": "invalid syntax (<ipython-input-109-437691e2f026>, line 2)",
     "output_type": "error",
     "traceback": [
      "\u001b[1;36m  File \u001b[1;32m\"<ipython-input-109-437691e2f026>\"\u001b[1;36m, line \u001b[1;32m2\u001b[0m\n\u001b[1;33m    if j and :\u001b[0m\n\u001b[1;37m             ^\u001b[0m\n\u001b[1;31mSyntaxError\u001b[0m\u001b[1;31m:\u001b[0m invalid syntax\n"
     ]
    }
   ],
   "source": [
    "for i,j in enumerate(window_status):\n",
    "    if j and :"
   ]
  },
  {
   "cell_type": "code",
   "execution_count": null,
   "metadata": {},
   "outputs": [],
   "source": []
  },
  {
   "cell_type": "code",
   "execution_count": null,
   "metadata": {},
   "outputs": [],
   "source": []
  },
  {
   "cell_type": "code",
   "execution_count": null,
   "metadata": {},
   "outputs": [],
   "source": [
    "\n",
    "\n"
   ]
  },
  {
   "cell_type": "code",
   "execution_count": null,
   "metadata": {},
   "outputs": [],
   "source": []
  },
  {
   "cell_type": "code",
   "execution_count": null,
   "metadata": {},
   "outputs": [],
   "source": []
  },
  {
   "cell_type": "code",
   "execution_count": null,
   "metadata": {},
   "outputs": [],
   "source": [
    "\n"
   ]
  }
 ],
 "metadata": {
  "kernelspec": {
   "display_name": "Python 3",
   "language": "python",
   "name": "python3"
  },
  "language_info": {
   "codemirror_mode": {
    "name": "ipython",
    "version": 3
   },
   "file_extension": ".py",
   "mimetype": "text/x-python",
   "name": "python",
   "nbconvert_exporter": "python",
   "pygments_lexer": "ipython3",
   "version": "3.7.3"
  }
 },
 "nbformat": 4,
 "nbformat_minor": 2
}
